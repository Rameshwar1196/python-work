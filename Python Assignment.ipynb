{
 "cells": [
  {
   "cell_type": "code",
   "execution_count": 17,
   "metadata": {},
   "outputs": [
    {
     "name": "stdout",
     "output_type": "stream",
     "text": [
      "2401\n"
     ]
    }
   ],
   "source": [
    "# What is 7 to the power of 4?\n",
    "x=pow(7,4)\n",
    "print(x)"
   ]
  },
  {
   "cell_type": "code",
   "execution_count": 19,
   "metadata": {},
   "outputs": [
    {
     "data": {
      "text/plain": [
       "['hi', 'there', 'yogesh']"
      ]
     },
     "execution_count": 19,
     "metadata": {},
     "output_type": "execute_result"
    }
   ],
   "source": [
    "# ** Split this string:** s = \"Hi there Sam!\" *into a list. *\n",
    "\n",
    "s=\"hi there yogesh\"\n",
    "y=s.split()\n",
    "y"
   ]
  },
  {
   "cell_type": "code",
   "execution_count": 20,
   "metadata": {},
   "outputs": [
    {
     "data": {
      "text/plain": [
       "'The diameter of Earth is 12742 kilometers'"
      ]
     },
     "execution_count": 20,
     "metadata": {},
     "output_type": "execute_result"
    }
   ],
   "source": [
    "# Given the variables:**planet = \"Earth\"diameter = 12742** Use .format() to print the following string: \n",
    "planet = \"Earth\"\n",
    "diameter = 12742\n",
    "'The diameter of {} is {} kilometers'.format(planet,diameter)"
   ]
  },
  {
   "cell_type": "code",
   "execution_count": 21,
   "metadata": {},
   "outputs": [
    {
     "data": {
      "text/plain": [
       "'hello'"
      ]
     },
     "execution_count": 21,
     "metadata": {},
     "output_type": "execute_result"
    }
   ],
   "source": [
    "#Given this nested list, use indexing to grab the word \"hello\" \n",
    "lst = [1,2,[3,4],[5,[100,200,['hello']],23,11],1,7]\n",
    "lst[3][1][2][0]"
   ]
  },
  {
   "cell_type": "code",
   "execution_count": 22,
   "metadata": {},
   "outputs": [
    {
     "data": {
      "text/plain": [
       "'hello'"
      ]
     },
     "execution_count": 22,
     "metadata": {},
     "output_type": "execute_result"
    }
   ],
   "source": [
    "#Given this nested dictionary grab the word \"hello\". Be prepared, this will be annoying/tricky\n",
    "d = {'k1':[1,2,3,{'tricky':['oh','man','inception',{'target':[1,2,3,'hello']}]}]}\n",
    "d['k1'][3]['tricky'][3]['target'][3]"
   ]
  },
  {
   "cell_type": "code",
   "execution_count": 33,
   "metadata": {},
   "outputs": [
    {
     "data": {
      "text/plain": [
       "True"
      ]
     },
     "execution_count": 33,
     "metadata": {},
     "output_type": "execute_result"
    }
   ],
   "source": [
    "# Create a basic function that returns True if the word 'dog' is contained in the input string. Don't worry about edge \n",
    "#cases like a punctuation being attached to the word dog, but do account for capitalization\n",
    "\n",
    "def findDog(p):\n",
    "    return 'dog' in p.lower().split()\n",
    "findDog('dog is an pet animal')"
   ]
  },
  {
   "cell_type": "code",
   "execution_count": 39,
   "metadata": {},
   "outputs": [
    {
     "data": {
      "text/plain": [
       "2"
      ]
     },
     "execution_count": 39,
     "metadata": {},
     "output_type": "execute_result"
    }
   ],
   "source": [
    "#Create a function that counts the number of times the word \"dog\" occurs in a string. Again ignore edge cases.\n",
    "def countdog(t):\n",
    "    count=0;\n",
    "    for word in t.lower().split():\n",
    "        if word=='dog':\n",
    "            count=count+1\n",
    "    return count\n",
    "countdog('dog is an honest animal and dog is pet animal also.')"
   ]
  },
  {
   "cell_type": "code",
   "execution_count": 52,
   "metadata": {},
   "outputs": [
    {
     "data": {
      "text/plain": [
       "['soup', 'salad']"
      ]
     },
     "execution_count": 52,
     "metadata": {},
     "output_type": "execute_result"
    }
   ],
   "source": [
    "# Use lambda expressions and the filter() function to filter out words from a list that don't start with the letter 's'.\n",
    "lambda word:word[0]=='s'\n",
    "seq = ['soup','dog','salad','cat','great']\n",
    "\n",
    "list(filter(lambda word: word[0]=='s',seq))"
   ]
  },
  {
   "cell_type": "code",
   "execution_count": 106,
   "metadata": {},
   "outputs": [
    {
     "name": "stdout",
     "output_type": "stream",
     "text": [
      "enter any positve number:   121\n",
      "121\n",
      "121\n",
      "242\n",
      "the entered number is palindrome.\n"
     ]
    }
   ],
   "source": [
    "'''\n",
    "Q2\n",
    "WAP to check whether a number is palindrome or not on following conditions.\n",
    "1. take input number\n",
    "2. add number and its reverse\n",
    "3. check that number is palindrome or not,if not then sum and its reverse\n",
    "'''\n",
    "def reverse(num):\n",
    "    temp_var=num\n",
    "    rev=0\n",
    "    while(num>0):\n",
    "        digit=num%10\n",
    "        rev=rev*10+digit\n",
    "        num=num//10\n",
    "    #print(rev)\n",
    "    return rev\n",
    "\n",
    "n=int(input('enter any positve number:   '))\n",
    "print(n)\n",
    "m=reverse(n)\n",
    "print(m)\n",
    "add=n+m\n",
    "print(add)\n",
    "if(add==reverse(add)):\n",
    "    print(\"the entered number is palindrome.\")\n",
    "else:\n",
    "    print(\"entered number is not palindrome.\")\n",
    "    sum=add+reverse(add)\n",
    "    print(sum)\n",
    "\n"
   ]
  },
  {
   "cell_type": "code",
   "execution_count": null,
   "metadata": {},
   "outputs": [],
   "source": []
  },
  {
   "cell_type": "code",
   "execution_count": null,
   "metadata": {},
   "outputs": [],
   "source": [
    " \n",
    " #'the original number is {} and reverse number is {} .'.format(temp_var,rev)\n",
    " def checkpalindrome(num,revere(num)):\n",
    "    add=num+reverse(num)\n",
    "    add_rev=reverse(add)\n",
    "    if(add==add_rev):\n",
    "        print(\"the entered number is palindrome.\")\n",
    "    else:\n",
    "        print(\"entered number is not palindrome.\")\n",
    "        sum=add+add_rev\n",
    "        x=reverse(sum)\n",
    "        'the sum is {} and reverse of this is {}'.format(sum,add_rev)\n",
    "\n",
    "\n",
    "  "
   ]
  },
  {
   "cell_type": "code",
   "execution_count": null,
   "metadata": {},
   "outputs": [],
   "source": []
  }
 ],
 "metadata": {
  "kernelspec": {
   "display_name": "Python 3",
   "language": "python",
   "name": "python3"
  },
  "language_info": {
   "codemirror_mode": {
    "name": "ipython",
    "version": 3
   },
   "file_extension": ".py",
   "mimetype": "text/x-python",
   "name": "python",
   "nbconvert_exporter": "python",
   "pygments_lexer": "ipython3",
   "version": "3.8.5"
  }
 },
 "nbformat": 4,
 "nbformat_minor": 4
}
